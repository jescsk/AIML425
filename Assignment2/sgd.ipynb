{
 "cells": [
  {
   "metadata": {},
   "cell_type": "markdown",
   "source": [
    "## Assignment 2 | Problem 1\n",
    "The MNIST dataset can be directly imported from trusted cloud platforms and verified entries such as `tensorflow.org`. This data can then be loaded and preprocessed before classification training and testing.\n",
    "\n",
    "Feature structure as described by TensorFlow:\n",
    "```\n",
    "FeaturesDict({\n",
    "    'image': Image(shape=(28, 28, 1), dtype=uint8),\n",
    "    'label': ClassLabel(shape=(), dtype=int64, num_classes=10),\n",
    "})\n",
    "```\n",
    "\n",
    "Therefore, the label feature will be discarded as it is not required for the classification task."
   ],
   "id": "7b50620107715f99"
  },
  {
   "metadata": {
    "ExecuteTime": {
     "end_time": "2025-08-07T11:39:28.682605Z",
     "start_time": "2025-08-07T11:39:25.097667Z"
    }
   },
   "cell_type": "code",
   "source": [
    "import certifi\n",
    "import numpy as np\n",
    "import os\n",
    "from tensorflow.keras.datasets import mnist\n",
    "\n",
    "# Force HTTPS to use specific certificate for MNIST installation\n",
    "os.environ['SSL_CERT_FILE'] = certifi.where()\n",
    "\n",
    "# Load and preprocess MNIST\n",
    "(x_train, _), (x_test, _) = mnist.load_data()"
   ],
   "id": "bf959ab443dc0133",
   "outputs": [],
   "execution_count": 1
  },
  {
   "metadata": {},
   "cell_type": "markdown",
   "source": [
    "Neural networks perform better with small input values, where a range of 0-1 is better than a range of 0-255. Large input values cause large activations, which makes large gradients, and leads to unstable weight updates. As a result, the input values will be normalised to maintain a more accurate output.\n",
    "\n",
    "The type conversion to float32 is to allow decimals for increased precision when normalising, where float32 is preferred over float64 for computational speed and hardware optimisation.\n",
    "\n",
    "A channel value of 1 (for greyscale, as opposed to 3 for RGB) is appended at the end of the input vector to conform with the 4D vector requirements for a CNN."
   ],
   "id": "31db521310c41ef4"
  },
  {
   "metadata": {
    "ExecuteTime": {
     "end_time": "2025-08-07T11:39:28.840264Z",
     "start_time": "2025-08-07T11:39:28.694776Z"
    }
   },
   "cell_type": "code",
   "source": [
    "# Normalise and add channel dimension\n",
    "x_train = x_train.astype('float32') / 255.0\n",
    "x_test = x_test.astype('float32') / 255.0\n",
    "x_train = np.expand_dims(x_train, -1)\n",
    "x_test = np.expand_dims(x_test, -1)"
   ],
   "id": "ab06be809074b23f",
   "outputs": [],
   "execution_count": 2
  },
  {
   "metadata": {
    "ExecuteTime": {
     "end_time": "2025-08-07T11:39:28.854713Z",
     "start_time": "2025-08-07T11:39:28.851160Z"
    }
   },
   "cell_type": "code",
   "source": [
    "# Create rotation labels (0: none, 1: left, 2: right)\n",
    "def apply_rotations(images):\n",
    "    n = len(images)\n",
    "    rotated = []\n",
    "    labels = []\n",
    "\n",
    "    # Split into thirds\n",
    "    split = n // 3\n",
    "    # No rotation\n",
    "    rotated.append(images[:split])\n",
    "    labels.extend([0] * split)\n",
    "    # Left rotation (90° CCW)\n",
    "    rotated.append(np.rot90(images[split:2*split], k=1, axes=(1, 2)))\n",
    "    labels.extend([1] * split)\n",
    "    # Right rotation (90° CW)\n",
    "    rotated.append(np.rot90(images[2*split:3*split], k=-1, axes=(1, 2)))\n",
    "    labels.extend([2] * split)\n",
    "\n",
    "    return np.concatenate(rotated), np.array(labels)"
   ],
   "id": "bb5c5a39efc96b3",
   "outputs": [],
   "execution_count": 3
  },
  {
   "metadata": {
    "ExecuteTime": {
     "end_time": "2025-08-07T11:39:28.934949Z",
     "start_time": "2025-08-07T11:39:28.861195Z"
    }
   },
   "cell_type": "code",
   "source": [
    "x_train_rot, y_train_rot = apply_rotations(x_train)\n",
    "x_test_rot, y_test_rot = apply_rotations(x_test)"
   ],
   "id": "854d5fc153f2d7a9",
   "outputs": [],
   "execution_count": 4
  },
  {
   "metadata": {
    "ExecuteTime": {
     "end_time": "2025-08-07T11:39:28.942957Z",
     "start_time": "2025-08-07T11:39:28.939894Z"
    }
   },
   "cell_type": "code",
   "source": [
    "# Split training into train/validation (70/30)\n",
    "val_split = int(0.7 * len(x_train_rot))\n",
    "x_val = x_train_rot[val_split:]\n",
    "y_val = y_train_rot[val_split:]\n",
    "x_train_final = x_train_rot[:val_split]\n",
    "y_train_final = y_train_rot[:val_split]"
   ],
   "id": "ccb5e04fe69b1259",
   "outputs": [],
   "execution_count": 5
  }
 ],
 "metadata": {
  "kernelspec": {
   "display_name": "Python 3",
   "language": "python",
   "name": "python3"
  },
  "language_info": {
   "codemirror_mode": {
    "name": "ipython",
    "version": 2
   },
   "file_extension": ".py",
   "mimetype": "text/x-python",
   "name": "python",
   "nbconvert_exporter": "python",
   "pygments_lexer": "ipython2",
   "version": "2.7.6"
  }
 },
 "nbformat": 4,
 "nbformat_minor": 5
}
