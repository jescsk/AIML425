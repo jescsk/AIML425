{
 "cells": [
  {
   "metadata": {},
   "cell_type": "markdown",
   "source": [
    "## Assignment 2 | Problem 1\n",
    "The MNIST dataset can be directly imported from trusted cloud platforms and verified entries such as `tensorflow.org`. This data can then be loaded and preprocessed before classification training and testing.\n",
    "\n",
    "A seed of `42` is set for reproducibility to keep a constant result.\n",
    "\n",
    "Feature structure as described by TensorFlow:\n",
    "```\n",
    "FeaturesDict({\n",
    "    'image': Image(shape=(28, 28, 1), dtype=uint8),\n",
    "    'label': ClassLabel(shape=(), dtype=int64, num_classes=10),\n",
    "})\n",
    "```\n",
    "\n",
    "Therefore, the label feature will be discarded as it is not required for the classification task."
   ],
   "id": "7b50620107715f99"
  },
  {
   "metadata": {
    "ExecuteTime": {
     "end_time": "2025-08-17T01:59:03.983027Z",
     "start_time": "2025-08-17T01:59:03.877560Z"
    }
   },
   "cell_type": "code",
   "source": [
    "import certifi\n",
    "import matplotlib.pyplot as plt\n",
    "import numpy as np\n",
    "import os\n",
    "import random\n",
    "import tensorflow as tf\n",
    "from tensorflow.keras.datasets import mnist\n",
    "from tensorflow.keras.models import Sequential\n",
    "from tensorflow.keras.layers import InputLayer, Dense, Flatten, Conv2D, MaxPooling2D\n",
    "from tensorflow.keras.optimizers import SGD\n",
    "from tensorflow.keras.utils import to_categorical\n",
    "\n",
    "# Set seed for reproducibility\n",
    "SEED = 42\n",
    "random.seed(SEED)\n",
    "np.random.seed(SEED)\n",
    "tf.random.set_seed(SEED)\n",
    "\n",
    "# Force HTTPS to use specific certificate for MNIST installation\n",
    "os.environ['SSL_CERT_FILE'] = certifi.where()\n",
    "\n",
    "# Load and preprocess MNIST\n",
    "(x_train, _), (x_test, _) = mnist.load_data()"
   ],
   "id": "bf959ab443dc0133",
   "outputs": [],
   "execution_count": 23
  },
  {
   "metadata": {},
   "cell_type": "markdown",
   "source": [
    "Neural networks perform better with small input values, where a range of 0-1 is better than a range of 0-255. Large input values cause large activations, which makes large gradients, and leads to unstable weight updates. As a result, the input values will be normalised to maintain a more accurate output and stable training.\n",
    "\n",
    "The type conversion to float32 is to allow decimals for increased precision when normalising, where float32 is preferred over float64 for computational speed and hardware optimisation.\n",
    "\n",
    "A channel value of 1 (for greyscale, as opposed to 3 for RGB) is appended at the end of the input vector to conform with the vector requirements for a CNN."
   ],
   "id": "31db521310c41ef4"
  },
  {
   "metadata": {
    "ExecuteTime": {
     "end_time": "2025-08-17T01:59:04.074713Z",
     "start_time": "2025-08-17T01:59:03.988357Z"
    }
   },
   "cell_type": "code",
   "source": [
    "# Normalise and add channel dimension\n",
    "x_train = x_train.astype('float32') / 255.0\n",
    "x_test = x_test.astype('float32') / 255.0\n",
    "x_train = np.expand_dims(x_train, -1)\n",
    "x_test = np.expand_dims(x_test, -1)"
   ],
   "id": "ab06be809074b23f",
   "outputs": [],
   "execution_count": 24
  },
  {
   "metadata": {},
   "cell_type": "markdown",
   "source": "The problem statement requires that the MNIST dataset be split into thirds, where each third is rotated differently. 1/3 is left-rotated, 1/3 is right-rotated, and 1/3 not rotated. The train and test sets will be split into three equal parts with the rotations applied accordingly.",
   "id": "e95f5cb08e00852"
  },
  {
   "metadata": {
    "ExecuteTime": {
     "end_time": "2025-08-17T01:59:04.083356Z",
     "start_time": "2025-08-17T01:59:04.081003Z"
    }
   },
   "cell_type": "code",
   "source": [
    "# Create rotation labels (0: none, 1: left, 2: right)\n",
    "def apply_rotations(images):\n",
    "    n = len(images)\n",
    "    rotated = []\n",
    "    labels = []\n",
    "\n",
    "    # Split into thirds\n",
    "    split = n // 3\n",
    "    # No rotation\n",
    "    rotated.append(images[:split])\n",
    "    labels.extend([0] * split)\n",
    "    # Left rotation (90° CCW)\n",
    "    rotated.append(np.rot90(images[split:2*split], k=1, axes=(1, 2)))\n",
    "    labels.extend([1] * split)\n",
    "    # Right rotation (90° CW)\n",
    "    rotated.append(np.rot90(images[2*split:3*split], k=-1, axes=(1, 2)))\n",
    "    labels.extend([2] * split)\n",
    "\n",
    "    return np.concatenate(rotated), np.array(labels)"
   ],
   "id": "bb5c5a39efc96b3",
   "outputs": [],
   "execution_count": 25
  },
  {
   "metadata": {
    "ExecuteTime": {
     "end_time": "2025-08-17T01:59:04.140352Z",
     "start_time": "2025-08-17T01:59:04.088021Z"
    }
   },
   "cell_type": "code",
   "source": [
    "x_train_rot, y_train_rot = apply_rotations(x_train)\n",
    "x_test_rot, y_test_rot = apply_rotations(x_test)"
   ],
   "id": "854d5fc153f2d7a9",
   "outputs": [],
   "execution_count": 26
  },
  {
   "metadata": {
    "ExecuteTime": {
     "end_time": "2025-08-17T01:59:04.149782Z",
     "start_time": "2025-08-17T01:59:04.144919Z"
    }
   },
   "cell_type": "code",
   "source": [
    "# Split training into train/validation (80/20)\n",
    "val_split = int(0.8 * len(x_train_rot))\n",
    "x_val = x_train_rot[val_split:]\n",
    "y_val = y_train_rot[val_split:]\n",
    "x_train_final = x_train_rot[:val_split]\n",
    "y_train_final = y_train_rot[:val_split]"
   ],
   "id": "ccb5e04fe69b1259",
   "outputs": [],
   "execution_count": 27
  },
  {
   "metadata": {
    "ExecuteTime": {
     "end_time": "2025-08-17T01:59:04.156710Z",
     "start_time": "2025-08-17T01:59:04.153591Z"
    }
   },
   "cell_type": "code",
   "source": [
    "# One-hot encode labels\n",
    "y_train_final = to_categorical(y_train_final, 3)\n",
    "y_val = to_categorical(y_val, 3)\n",
    "y_test_rot = to_categorical(y_test_rot, 3)"
   ],
   "id": "b643e5f064032ec3",
   "outputs": [],
   "execution_count": 28
  },
  {
   "metadata": {
    "ExecuteTime": {
     "end_time": "2025-08-17T01:59:04.187060Z",
     "start_time": "2025-08-17T01:59:04.161156Z"
    }
   },
   "cell_type": "code",
   "source": [
    "# Build CNN\n",
    "model = Sequential([\n",
    "    InputLayer(shape=(28, 28, 1)),  # Explicit input layer\n",
    "    Conv2D(32, (3,3), activation='relu'),\n",
    "    MaxPooling2D((2,2)),\n",
    "    Flatten(),\n",
    "    Dense(128, activation='relu'),\n",
    "    Dense(3, activation='softmax')\n",
    "])\n"
   ],
   "id": "1cdba12dc968690d",
   "outputs": [],
   "execution_count": 29
  },
  {
   "metadata": {
    "ExecuteTime": {
     "end_time": "2025-08-17T01:59:04.197397Z",
     "start_time": "2025-08-17T01:59:04.191492Z"
    }
   },
   "cell_type": "code",
   "source": [
    "# Configure SGD (as per SGD.pdf)\n",
    "sgd = SGD(learning_rate=0.01, momentum=0.9)\n",
    "model.compile(loss='categorical_crossentropy',\n",
    "              optimizer=sgd,\n",
    "              metrics=['accuracy'])\n"
   ],
   "id": "c3a27da0e98c3f5f",
   "outputs": [],
   "execution_count": 30
  },
  {
   "metadata": {
    "ExecuteTime": {
     "end_time": "2025-08-17T02:00:23.997177Z",
     "start_time": "2025-08-17T01:59:04.205582Z"
    }
   },
   "cell_type": "code",
   "source": [
    "# Train CNN with explicit SGD iterations\n",
    "history = model.fit(\n",
    "    x_train_final, y_train_final,\n",
    "    epochs=15,\n",
    "    batch_size=64,  # Minibatch SGD\n",
    "    validation_data=(x_val, y_val),\n",
    "    verbose=1\n",
    ")"
   ],
   "id": "8521ef6b81777d9b",
   "outputs": [
    {
     "name": "stdout",
     "output_type": "stream",
     "text": [
      "Epoch 1/15\n",
      "\u001B[1m750/750\u001B[0m \u001B[32m━━━━━━━━━━━━━━━━━━━━\u001B[0m\u001B[37m\u001B[0m \u001B[1m6s\u001B[0m 7ms/step - accuracy: 0.9573 - loss: 0.1238 - val_accuracy: 0.9933 - val_loss: 0.0251\n",
      "Epoch 2/15\n",
      "\u001B[1m750/750\u001B[0m \u001B[32m━━━━━━━━━━━━━━━━━━━━\u001B[0m\u001B[37m\u001B[0m \u001B[1m5s\u001B[0m 7ms/step - accuracy: 0.9875 - loss: 0.0363 - val_accuracy: 0.9905 - val_loss: 0.0283\n",
      "Epoch 3/15\n",
      "\u001B[1m750/750\u001B[0m \u001B[32m━━━━━━━━━━━━━━━━━━━━\u001B[0m\u001B[37m\u001B[0m \u001B[1m5s\u001B[0m 7ms/step - accuracy: 0.9908 - loss: 0.0263 - val_accuracy: 0.9733 - val_loss: 0.0723\n",
      "Epoch 4/15\n",
      "\u001B[1m750/750\u001B[0m \u001B[32m━━━━━━━━━━━━━━━━━━━━\u001B[0m\u001B[37m\u001B[0m \u001B[1m6s\u001B[0m 8ms/step - accuracy: 0.9924 - loss: 0.0212 - val_accuracy: 0.9672 - val_loss: 0.0909\n",
      "Epoch 5/15\n",
      "\u001B[1m750/750\u001B[0m \u001B[32m━━━━━━━━━━━━━━━━━━━━\u001B[0m\u001B[37m\u001B[0m \u001B[1m6s\u001B[0m 8ms/step - accuracy: 0.9927 - loss: 0.0193 - val_accuracy: 0.9509 - val_loss: 0.1365\n",
      "Epoch 6/15\n",
      "\u001B[1m750/750\u001B[0m \u001B[32m━━━━━━━━━━━━━━━━━━━━\u001B[0m\u001B[37m\u001B[0m \u001B[1m6s\u001B[0m 7ms/step - accuracy: 0.9944 - loss: 0.0161 - val_accuracy: 0.9397 - val_loss: 0.1723\n",
      "Epoch 7/15\n",
      "\u001B[1m750/750\u001B[0m \u001B[32m━━━━━━━━━━━━━━━━━━━━\u001B[0m\u001B[37m\u001B[0m \u001B[1m5s\u001B[0m 7ms/step - accuracy: 0.9953 - loss: 0.0131 - val_accuracy: 0.9433 - val_loss: 0.1576\n",
      "Epoch 8/15\n",
      "\u001B[1m750/750\u001B[0m \u001B[32m━━━━━━━━━━━━━━━━━━━━\u001B[0m\u001B[37m\u001B[0m \u001B[1m5s\u001B[0m 7ms/step - accuracy: 0.9965 - loss: 0.0103 - val_accuracy: 0.9403 - val_loss: 0.1751\n",
      "Epoch 9/15\n",
      "\u001B[1m750/750\u001B[0m \u001B[32m━━━━━━━━━━━━━━━━━━━━\u001B[0m\u001B[37m\u001B[0m \u001B[1m5s\u001B[0m 7ms/step - accuracy: 0.9973 - loss: 0.0087 - val_accuracy: 0.9451 - val_loss: 0.1655\n",
      "Epoch 10/15\n",
      "\u001B[1m750/750\u001B[0m \u001B[32m━━━━━━━━━━━━━━━━━━━━\u001B[0m\u001B[37m\u001B[0m \u001B[1m5s\u001B[0m 7ms/step - accuracy: 0.9975 - loss: 0.0073 - val_accuracy: 0.9492 - val_loss: 0.1555\n",
      "Epoch 11/15\n",
      "\u001B[1m750/750\u001B[0m \u001B[32m━━━━━━━━━━━━━━━━━━━━\u001B[0m\u001B[37m\u001B[0m \u001B[1m5s\u001B[0m 7ms/step - accuracy: 0.9984 - loss: 0.0054 - val_accuracy: 0.9589 - val_loss: 0.1216\n",
      "Epoch 12/15\n",
      "\u001B[1m750/750\u001B[0m \u001B[32m━━━━━━━━━━━━━━━━━━━━\u001B[0m\u001B[37m\u001B[0m \u001B[1m5s\u001B[0m 7ms/step - accuracy: 0.9986 - loss: 0.0045 - val_accuracy: 0.9720 - val_loss: 0.0852\n",
      "Epoch 13/15\n",
      "\u001B[1m750/750\u001B[0m \u001B[32m━━━━━━━━━━━━━━━━━━━━\u001B[0m\u001B[37m\u001B[0m \u001B[1m5s\u001B[0m 7ms/step - accuracy: 0.9981 - loss: 0.0052 - val_accuracy: 0.9638 - val_loss: 0.1141\n",
      "Epoch 14/15\n",
      "\u001B[1m750/750\u001B[0m \u001B[32m━━━━━━━━━━━━━━━━━━━━\u001B[0m\u001B[37m\u001B[0m \u001B[1m5s\u001B[0m 7ms/step - accuracy: 0.9986 - loss: 0.0043 - val_accuracy: 0.9705 - val_loss: 0.0935\n",
      "Epoch 15/15\n",
      "\u001B[1m750/750\u001B[0m \u001B[32m━━━━━━━━━━━━━━━━━━━━\u001B[0m\u001B[37m\u001B[0m \u001B[1m5s\u001B[0m 7ms/step - accuracy: 0.9987 - loss: 0.0043 - val_accuracy: 0.9777 - val_loss: 0.0688\n"
     ]
    }
   ],
   "execution_count": 31
  },
  {
   "metadata": {
    "ExecuteTime": {
     "end_time": "2025-08-17T02:00:24.103378Z",
     "start_time": "2025-08-17T02:00:24.034125Z"
    }
   },
   "cell_type": "code",
   "source": [
    "# Plot results\n",
    "plt.plot(history.history['accuracy'], label='Train Accuracy')\n",
    "plt.plot(history.history['val_accuracy'], label='Validation Accuracy')\n",
    "plt.title('Rotation Classification Accuracy')\n",
    "plt.ylabel('Accuracy')\n",
    "plt.xlabel('Epoch')\n",
    "plt.legend()\n",
    "plt.show()"
   ],
   "id": "4b6575e3b57eda18",
   "outputs": [
    {
     "data": {
      "text/plain": [
       "<Figure size 640x480 with 1 Axes>"
      ],
      "image/png": "[encoded data removed]"
     },
     "metadata": {},
     "output_type": "display_data"
    }
   ],
   "execution_count": 32
  },
  {
   "metadata": {
    "ExecuteTime": {
     "end_time": "2025-08-17T02:00:24.735189Z",
     "start_time": "2025-08-17T02:00:24.114269Z"
    }
   },
   "cell_type": "code",
   "source": [
    "# Evaluate on test set\n",
    "test_loss, test_acc = model.evaluate(x_test_rot, y_test_rot, verbose=1)\n",
    "print(f\"\\nTest Accuracy: {test_acc:.4f}\")"
   ],
   "id": "f464b464267a04af",
   "outputs": [
    {
     "name": "stdout",
     "output_type": "stream",
     "text": [
      "\u001B[1m313/313\u001B[0m \u001B[32m━━━━━━━━━━━━━━━━━━━━\u001B[0m\u001B[37m\u001B[0m \u001B[1m1s\u001B[0m 2ms/step - accuracy: 0.9938 - loss: 0.0233\n",
      "\n",
      "Test Accuracy: 0.9938\n"
     ]
    }
   ],
   "execution_count": 33
  }
 ],
 "metadata": {
  "kernelspec": {
   "display_name": "Python 3",
   "language": "python",
   "name": "python3"
  },
  "language_info": {
   "codemirror_mode": {
    "name": "ipython",
    "version": 2
   },
   "file_extension": ".py",
   "mimetype": "text/x-python",
   "name": "python",
   "nbconvert_exporter": "python",
   "pygments_lexer": "ipython2",
   "version": "2.7.6"
  }
 },
 "nbformat": 4,
 "nbformat_minor": 5
}
