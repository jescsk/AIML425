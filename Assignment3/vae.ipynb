{
 "cells": [
  {
   "metadata": {},
   "cell_type": "markdown",
   "source": [
    "# Assignment 3 | Problem 2\n",
    "A new dataset is created, consisting of 15,000 28x28 pixel images of shapes including circles, triangles, and squares.\n",
    "\n",
    "A seed of `42` is set for reproducibility to keep a constant result.\n",
    "\n",
    "## Generate dataset"
   ],
   "id": "bd8bd596af3e1e3b"
  },
  {
   "cell_type": "code",
   "id": "initial_id",
   "metadata": {
    "collapsed": true,
    "ExecuteTime": {
     "end_time": "2025-09-18T01:36:57.173032Z",
     "start_time": "2025-09-18T01:36:51.645693Z"
    }
   },
   "source": [
    "import cv2\n",
    "import matplotlib.pyplot as plt\n",
    "import numpy as np\n",
    "import random\n",
    "import sklearn\n",
    "import tensorflow as tf\n",
    "from tensorflow import keras\n",
    "from tensorflow.keras import layers\n",
    "\n",
    "\n",
    "# Set seed for reproducibility\n",
    "tf.random.set_seed(42)\n",
    "np.random.seed(42)\n",
    "\n",
    "def generate_shapes_dataset(num_samples=15000, img_size=28):\n",
    "    \"\"\"\n",
    "    Generates a dataset of 28x28 images with circles, triangles, and rectangles.\n",
    "    Returns: (images, labels) where labels are 0=circle, 1=triangle, 2=rectangle.\n",
    "    \"\"\"\n",
    "    images = np.zeros((num_samples, img_size, img_size, 1), dtype=np.float32)\n",
    "    labels = np.zeros(num_samples, dtype=np.int32)\n",
    "\n",
    "    for i in range(num_samples):\n",
    "        # Create a blank image\n",
    "        img = np.zeros((img_size, img_size), dtype=np.uint8)\n",
    "\n",
    "        # Randomly choose a shape\n",
    "        shape_class = np.random.randint(0, 3)\n",
    "        labels[i] = shape_class\n",
    "\n",
    "        # Define shape color (white)\n",
    "        shape_color = 255  # White for 8-bit grayscale\n",
    "\n",
    "        if shape_class == 0:  # Circle\n",
    "            center = (random.randint(10, img_size-10), random.randint(10, img_size-10))\n",
    "            radius = random.randint(5, 10)\n",
    "            cv2.circle(img, center, radius, shape_color, -1)  # -1 for filled circle\n",
    "\n",
    "        elif shape_class == 1:  # Triangle\n",
    "            # Generate random vertices for a triangle\n",
    "            pt1 = (random.randint(5, img_size-5), random.randint(5, img_size-5))\n",
    "            pt2 = (random.randint(5, img_size-5), random.randint(5, img_size-5))\n",
    "            pt3 = (random.randint(5, img_size-5), random.randint(5, img_size-5))\n",
    "\n",
    "            pts = np.array([pt1, pt2, pt3], np.int32)\n",
    "            pts = pts.reshape((-1, 1, 2))\n",
    "            cv2.fillPoly(img, [pts], shape_color)\n",
    "\n",
    "        else:  # shape_class == 2, Rectangle\n",
    "            side = random.randint(10, 15)\n",
    "            top_left_x = random.randint(5, img_size-side-5)\n",
    "            top_left_y = random.randint(5, img_size-side-5)\n",
    "            cv2.rectangle(img, (top_left_x, top_left_y),\n",
    "                          (top_left_x + side, top_left_y + side),\n",
    "                          shape_color, -1)\n",
    "\n",
    "        # Normalise to [0, 1] and add channel dimension\n",
    "        images[i, :, :, 0] = img.astype(np.float32) / 255.0\n",
    "\n",
    "    return images, labels"
   ],
   "outputs": [],
   "execution_count": 1
  },
  {
   "metadata": {
    "ExecuteTime": {
     "end_time": "2025-09-18T01:36:57.378779Z",
     "start_time": "2025-09-18T01:36:57.192161Z"
    }
   },
   "cell_type": "code",
   "source": [
    "# Call dataset generation\n",
    "print(\"Generating dataset...\")\n",
    "X, y = generate_shapes_dataset(15000)\n",
    "print(f\"Dataset shape: {X.shape}\")\n",
    "\n",
    "\n",
    "# Display one sample of each shape\n",
    "shape_names = ['Circle', 'Triangle', 'Rectangle']\n",
    "fig, axes = plt.subplots(1, 3, figsize=(10, 3))\n",
    "\n",
    "for i, shape_name in enumerate(shape_names):\n",
    "    # Find the first occurrence of this shape in the dataset\n",
    "    idx = np.where(y == i)[0][0]\n",
    "\n",
    "    # Display the image\n",
    "    axes[i].imshow(X[idx].squeeze(), cmap='gray')\n",
    "    axes[i].set_title(f'{shape_name} (Label: {i})')\n",
    "    axes[i].axis('off')\n",
    "\n",
    "plt.tight_layout()\n",
    "plt.show()"
   ],
   "id": "5fb504275993dd1c",
   "outputs": [
    {
     "name": "stdout",
     "output_type": "stream",
     "text": [
      "Generating dataset...\n",
      "Dataset shape: (15000, 28, 28, 1)\n"
     ]
    },
    {
     "data": {
      "text/plain": [
       "<Figure size 1000x300 with 3 Axes>"
      ],
      "image/png": "[encoded data removed]"
     },
     "metadata": {},
     "output_type": "display_data",
     "jetTransient": {
      "display_id": null
     }
    }
   ],
   "execution_count": 2
  },
  {
   "metadata": {
    "ExecuteTime": {
     "end_time": "2025-09-18T01:36:57.569719Z",
     "start_time": "2025-09-18T01:36:57.402552Z"
    }
   },
   "cell_type": "code",
   "source": [
    "# Split into train, validation, and test sets\n",
    "X_train, X_temp, y_train, y_temp = sklearn.model_selection.train_test_split(X, y, test_size=0.3, random_state=42, stratify=y)\n",
    "X_val, X_test, y_val, y_test = sklearn.model_selection.train_test_split(X_temp, y_temp, test_size=0.5, random_state=42, stratify=y_temp)\n",
    "print(f\"Train: {X_train.shape}, Val: {X_val.shape}, Test: {X_test.shape}\")"
   ],
   "id": "88647d50bd218d3d",
   "outputs": [
    {
     "name": "stdout",
     "output_type": "stream",
     "text": [
      "Train: (10500, 28, 28, 1), Val: (2250, 28, 28, 1), Test: (2250, 28, 28, 1)\n"
     ]
    }
   ],
   "execution_count": 3
  },
  {
   "metadata": {},
   "cell_type": "markdown",
   "source": "## Build VAE Model",
   "id": "3927fb4de03c504a"
  },
  {
   "metadata": {
    "ExecuteTime": {
     "end_time": "2025-09-18T01:36:57.582395Z",
     "start_time": "2025-09-18T01:36:57.579996Z"
    }
   },
   "cell_type": "code",
   "source": [
    "class Sampling(layers.Layer):\n",
    "    \"\"\"Uses (z_mean, z_log_var) to sample z, the vector encoding a digit.\"\"\"\n",
    "    def call(self, inputs):  # Override\n",
    "        z_mean, z_log_var = inputs\n",
    "        batch = tf.shape(z_mean)[0]\n",
    "        dim = tf.shape(z_mean)[1]\n",
    "        epsilon = tf.keras.backend.random_normal(shape=(batch, dim))\n",
    "        return z_mean + tf.exp(0.5 * z_log_var) * epsilon"
   ],
   "id": "e7372ba041c8bdbf",
   "outputs": [],
   "execution_count": 4
  },
  {
   "metadata": {
    "ExecuteTime": {
     "end_time": "2025-09-18T01:36:57.641313Z",
     "start_time": "2025-09-18T01:36:57.595425Z"
    }
   },
   "cell_type": "code",
   "source": [
    "# Define encoder\n",
    "latent_dim = 8 # Small latent dimension for a simple task\n",
    "\n",
    "encoder_inputs = keras.Input(shape=(28, 28, 1))\n",
    "x = layers.Conv2D(32, 3, activation=\"relu\", strides=2, padding=\"same\")(encoder_inputs)\n",
    "x = layers.Conv2D(64, 3, activation=\"relu\", strides=2, padding=\"same\")(x)\n",
    "x = layers.Flatten()(x)\n",
    "x = layers.Dense(16, activation=\"relu\")(x)\n",
    "z_mean = layers.Dense(latent_dim, name=\"z_mean\")(x)\n",
    "z_log_var = layers.Dense(latent_dim, name=\"z_log_var\")(x)\n",
    "z = Sampling()([z_mean, z_log_var])\n",
    "encoder = keras.Model(encoder_inputs, [z_mean, z_log_var, z], name=\"encoder\")"
   ],
   "id": "4c5237b1beafb35d",
   "outputs": [],
   "execution_count": 5
  },
  {
   "metadata": {
    "ExecuteTime": {
     "end_time": "2025-09-18T01:36:57.661483Z",
     "start_time": "2025-09-18T01:36:57.646541Z"
    }
   },
   "cell_type": "code",
   "source": [
    "# Define decoder\n",
    "latent_inputs = keras.Input(shape=(latent_dim,))\n",
    "x = layers.Dense(7 * 7 * 64, activation=\"relu\")(latent_inputs)\n",
    "x = layers.Reshape((7, 7, 64))(x)\n",
    "x = layers.Conv2DTranspose(64, 3, activation=\"relu\", strides=2, padding=\"same\")(x)\n",
    "x = layers.Conv2DTranspose(32, 3, activation=\"relu\", strides=2, padding=\"same\")(x)\n",
    "decoder_outputs = layers.Conv2DTranspose(1, 3, activation=\"sigmoid\", padding=\"same\")(x)\n",
    "decoder = keras.Model(latent_inputs, decoder_outputs, name=\"decoder\")"
   ],
   "id": "15e0cb8fecb71e43",
   "outputs": [],
   "execution_count": 6
  },
  {
   "metadata": {
    "ExecuteTime": {
     "end_time": "2025-09-18T01:36:57.675744Z",
     "start_time": "2025-09-18T01:36:57.666614Z"
    }
   },
   "cell_type": "code",
   "source": [
    "## Define VAE model\n",
    "class VAE(keras.Model):\n",
    "    def __init__(self, encoder, decoder, **kwargs):\n",
    "        super(VAE, self).__init__(**kwargs)\n",
    "        self.encoder = encoder\n",
    "        self.decoder = decoder\n",
    "        self.total_loss_tracker = keras.metrics.Mean(name=\"total_loss\")\n",
    "        self.reconstruction_loss_tracker = keras.metrics.Mean(name=\"reconstruction_loss\")\n",
    "        self.kl_loss_tracker = keras.metrics.Mean(name=\"kl_loss\")\n",
    "\n",
    "    def call(self, inputs):\n",
    "        # Define the forward pass\n",
    "        z_mean, z_log_var, z = self.encoder(inputs)\n",
    "        reconstruction = self.decoder(z)\n",
    "        return reconstruction\n",
    "\n",
    "    @property\n",
    "    def metrics(self):\n",
    "        return [\n",
    "            self.total_loss_tracker,\n",
    "            self.reconstruction_loss_tracker,\n",
    "            self.kl_loss_tracker,\n",
    "        ]\n",
    "\n",
    "    def train_step(self, data):\n",
    "        x, _ = data  # Unpack the data tuple\n",
    "        with tf.GradientTape() as tape:\n",
    "            z_mean, z_log_var, z = self.encoder(x)\n",
    "            reconstruction = self.decoder(z)\n",
    "            reconstruction_loss = tf.reduce_mean(\n",
    "                tf.reduce_sum(\n",
    "                    keras.losses.binary_crossentropy(x, reconstruction), axis=(1, 2)\n",
    "                )\n",
    "            )\n",
    "            kl_loss = -0.5 * tf.reduce_mean(tf.reduce_sum(1 + z_log_var - tf.square(z_mean) - tf.exp(z_log_var), axis=1))\n",
    "            total_loss = reconstruction_loss + kl_loss\n",
    "\n",
    "        grads = tape.gradient(total_loss, self.trainable_weights)\n",
    "        self.optimizer.apply_gradients(zip(grads, self.trainable_weights))\n",
    "        self.total_loss_tracker.update_state(total_loss)\n",
    "        self.reconstruction_loss_tracker.update_state(reconstruction_loss)\n",
    "        self.kl_loss_tracker.update_state(kl_loss)\n",
    "        return {\n",
    "            \"loss\": self.total_loss_tracker.result(),\n",
    "            \"reconstruction_loss\": self.reconstruction_loss_tracker.result(),\n",
    "            \"kl_loss\": self.kl_loss_tracker.result(),\n",
    "        }\n",
    "\n",
    "    def test_step(self, data):\n",
    "        x, _ = data\n",
    "        z_mean, z_log_var, z = self.encoder(x)\n",
    "        reconstruction = self.decoder(z)\n",
    "        reconstruction_loss = tf.reduce_mean(\n",
    "            tf.reduce_sum(\n",
    "                keras.losses.binary_crossentropy(x, reconstruction), axis=(1, 2)\n",
    "            )\n",
    "        )\n",
    "        kl_loss = -0.5 * tf.reduce_mean(tf.reduce_sum(1 + z_log_var - tf.square(z_mean) - tf.exp(z_log_var), axis=1))\n",
    "        total_loss = reconstruction_loss + kl_loss\n",
    "\n",
    "        self.total_loss_tracker.update_state(total_loss)\n",
    "        self.reconstruction_loss_tracker.update_state(reconstruction_loss)\n",
    "        self.kl_loss_tracker.update_state(kl_loss)\n",
    "        return {m.name: m.result() for m in self.metrics}\n",
    "\n",
    "vae = VAE(encoder, decoder)"
   ],
   "id": "1e36409914b3d8d9",
   "outputs": [],
   "execution_count": 7
  },
  {
   "metadata": {},
   "cell_type": "markdown",
   "source": "## Train VAE",
   "id": "bee5c1e58dcc5843"
  },
  {
   "metadata": {
    "ExecuteTime": {
     "end_time": "2025-09-18T01:40:06.944050Z",
     "start_time": "2025-09-18T01:36:57.683573Z"
    }
   },
   "cell_type": "code",
   "source": [
    "vae.compile(optimizer=keras.optimizers.Adam(learning_rate=1e-3))\n",
    "history = vae.fit(X_train, X_train, epochs=50, batch_size=128, validation_data=(X_val, X_val))"
   ],
   "id": "84d6f4d267b60bea",
   "outputs": [
    {
     "name": "stdout",
     "output_type": "stream",
     "text": [
      "Epoch 1/50\n",
      "\u001B[1m83/83\u001B[0m \u001B[32m━━━━━━━━━━━━━━━━━━━━\u001B[0m\u001B[37m\u001B[0m \u001B[1m5s\u001B[0m 39ms/step - kl_loss: 5.9893 - loss: 300.3656 - reconstruction_loss: 294.3763 - val_kl_loss: 9.0906 - val_reconstruction_loss: 214.7100 - val_total_loss: 223.8006\n",
      "Epoch 2/50\n",
      "\u001B[1m83/83\u001B[0m \u001B[32m━━━━━━━━━━━━━━━━━━━━\u001B[0m\u001B[37m\u001B[0m \u001B[1m3s\u001B[0m 40ms/step - kl_loss: 8.8113 - loss: 209.1316 - reconstruction_loss: 200.3203 - val_kl_loss: 10.3345 - val_reconstruction_loss: 184.3215 - val_total_loss: 194.6559\n",
      "Epoch 3/50\n",
      "\u001B[1m83/83\u001B[0m \u001B[32m━━━━━━━━━━━━━━━━━━━━\u001B[0m\u001B[37m\u001B[0m \u001B[1m4s\u001B[0m 43ms/step - kl_loss: 11.2582 - loss: 180.8412 - reconstruction_loss: 169.5830 - val_kl_loss: 12.0489 - val_reconstruction_loss: 157.0637 - val_total_loss: 169.1125\n",
      "Epoch 4/50\n",
      "\u001B[1m83/83\u001B[0m \u001B[32m━━━━━━━━━━━━━━━━━━━━\u001B[0m\u001B[37m\u001B[0m \u001B[1m4s\u001B[0m 46ms/step - kl_loss: 12.3925 - loss: 155.3699 - reconstruction_loss: 142.9774 - val_kl_loss: 11.6741 - val_reconstruction_loss: 130.1672 - val_total_loss: 141.8413\n",
      "Epoch 5/50\n",
      "\u001B[1m83/83\u001B[0m \u001B[32m━━━━━━━━━━━━━━━━━━━━\u001B[0m\u001B[37m\u001B[0m \u001B[1m4s\u001B[0m 45ms/step - kl_loss: 14.8540 - loss: 112.8546 - reconstruction_loss: 98.0006 - val_kl_loss: 15.2753 - val_reconstruction_loss: 87.1506 - val_total_loss: 102.4258\n",
      "Epoch 6/50\n",
      "\u001B[1m83/83\u001B[0m \u001B[32m━━━━━━━━━━━━━━━━━━━━\u001B[0m\u001B[37m\u001B[0m \u001B[1m4s\u001B[0m 43ms/step - kl_loss: 16.2249 - loss: 88.1454 - reconstruction_loss: 71.9205 - val_kl_loss: 16.3955 - val_reconstruction_loss: 66.1290 - val_total_loss: 82.5244\n",
      "Epoch 7/50\n",
      "\u001B[1m83/83\u001B[0m \u001B[32m━━━━━━━━━━━━━━━━━━━━\u001B[0m\u001B[37m\u001B[0m \u001B[1m4s\u001B[0m 44ms/step - kl_loss: 16.4274 - loss: 76.7973 - reconstruction_loss: 60.3699 - val_kl_loss: 16.1684 - val_reconstruction_loss: 59.8767 - val_total_loss: 76.0451\n",
      "Epoch 8/50\n",
      "\u001B[1m83/83\u001B[0m \u001B[32m━━━━━━━━━━━━━━━━━━━━\u001B[0m\u001B[37m\u001B[0m \u001B[1m4s\u001B[0m 43ms/step - kl_loss: 15.9346 - loss: 72.3639 - reconstruction_loss: 56.4292 - val_kl_loss: 15.8459 - val_reconstruction_loss: 54.8543 - val_total_loss: 70.7002\n",
      "Epoch 9/50\n",
      "\u001B[1m83/83\u001B[0m \u001B[32m━━━━━━━━━━━━━━━━━━━━\u001B[0m\u001B[37m\u001B[0m \u001B[1m4s\u001B[0m 46ms/step - kl_loss: 15.5976 - loss: 69.1124 - reconstruction_loss: 53.5148 - val_kl_loss: 15.7277 - val_reconstruction_loss: 54.3123 - val_total_loss: 70.0399\n",
      "Epoch 10/50\n",
      "\u001B[1m83/83\u001B[0m \u001B[32m━━━━━━━━━━━━━━━━━━━━\u001B[0m\u001B[37m\u001B[0m \u001B[1m4s\u001B[0m 44ms/step - kl_loss: 15.3800 - loss: 67.2046 - reconstruction_loss: 51.8247 - val_kl_loss: 15.4730 - val_reconstruction_loss: 51.6394 - val_total_loss: 67.1123\n",
      "Epoch 11/50\n",
      "\u001B[1m83/83\u001B[0m \u001B[32m━━━━━━━━━━━━━━━━━━━━\u001B[0m\u001B[37m\u001B[0m \u001B[1m4s\u001B[0m 42ms/step - kl_loss: 15.0543 - loss: 63.8575 - reconstruction_loss: 48.8032 - val_kl_loss: 14.8612 - val_reconstruction_loss: 50.8615 - val_total_loss: 65.7227\n",
      "Epoch 12/50\n",
      "\u001B[1m83/83\u001B[0m \u001B[32m━━━━━━━━━━━━━━━━━━━━\u001B[0m\u001B[37m\u001B[0m \u001B[1m4s\u001B[0m 44ms/step - kl_loss: 14.8938 - loss: 61.4869 - reconstruction_loss: 46.5932 - val_kl_loss: 14.6558 - val_reconstruction_loss: 48.7765 - val_total_loss: 63.4323\n",
      "Epoch 13/50\n",
      "\u001B[1m83/83\u001B[0m \u001B[32m━━━━━━━━━━━━━━━━━━━━\u001B[0m\u001B[37m\u001B[0m \u001B[1m4s\u001B[0m 44ms/step - kl_loss: 14.6467 - loss: 59.1778 - reconstruction_loss: 44.5311 - val_kl_loss: 14.6590 - val_reconstruction_loss: 44.1255 - val_total_loss: 58.7845\n",
      "Epoch 14/50\n",
      "\u001B[1m83/83\u001B[0m \u001B[32m━━━━━━━━━━━━━━━━━━━━\u001B[0m\u001B[37m\u001B[0m \u001B[1m4s\u001B[0m 43ms/step - kl_loss: 14.5272 - loss: 57.8317 - reconstruction_loss: 43.3045 - val_kl_loss: 14.5978 - val_reconstruction_loss: 43.0563 - val_total_loss: 57.6541\n",
      "Epoch 15/50\n",
      "\u001B[1m83/83\u001B[0m \u001B[32m━━━━━━━━━━━━━━━━━━━━\u001B[0m\u001B[37m\u001B[0m \u001B[1m4s\u001B[0m 43ms/step - kl_loss: 14.3936 - loss: 56.8874 - reconstruction_loss: 42.4938 - val_kl_loss: 14.3472 - val_reconstruction_loss: 42.8739 - val_total_loss: 57.2211\n",
      "Epoch 16/50\n",
      "\u001B[1m83/83\u001B[0m \u001B[32m━━━━━━━━━━━━━━━━━━━━\u001B[0m\u001B[37m\u001B[0m \u001B[1m4s\u001B[0m 42ms/step - kl_loss: 14.2179 - loss: 56.9665 - reconstruction_loss: 42.7486 - val_kl_loss: 14.2402 - val_reconstruction_loss: 42.5702 - val_total_loss: 56.8104\n",
      "Epoch 17/50\n",
      "\u001B[1m83/83\u001B[0m \u001B[32m━━━━━━━━━━━━━━━━━━━━\u001B[0m\u001B[37m\u001B[0m \u001B[1m4s\u001B[0m 45ms/step - kl_loss: 14.0984 - loss: 56.0241 - reconstruction_loss: 41.9257 - val_kl_loss: 14.3376 - val_reconstruction_loss: 44.2483 - val_total_loss: 58.5860\n",
      "Epoch 18/50\n",
      "\u001B[1m83/83\u001B[0m \u001B[32m━━━━━━━━━━━━━━━━━━━━\u001B[0m\u001B[37m\u001B[0m \u001B[1m4s\u001B[0m 44ms/step - kl_loss: 14.0139 - loss: 54.9365 - reconstruction_loss: 40.9226 - val_kl_loss: 13.9553 - val_reconstruction_loss: 41.8917 - val_total_loss: 55.8470\n",
      "Epoch 19/50\n",
      "\u001B[1m83/83\u001B[0m \u001B[32m━━━━━━━━━━━━━━━━━━━━\u001B[0m\u001B[37m\u001B[0m \u001B[1m4s\u001B[0m 46ms/step - kl_loss: 13.9236 - loss: 54.4703 - reconstruction_loss: 40.5467 - val_kl_loss: 14.2888 - val_reconstruction_loss: 40.7771 - val_total_loss: 55.0659\n",
      "Epoch 20/50\n",
      "\u001B[1m83/83\u001B[0m \u001B[32m━━━━━━━━━━━━━━━━━━━━\u001B[0m\u001B[37m\u001B[0m \u001B[1m4s\u001B[0m 48ms/step - kl_loss: 13.8728 - loss: 53.8977 - reconstruction_loss: 40.0249 - val_kl_loss: 14.0098 - val_reconstruction_loss: 39.9544 - val_total_loss: 53.9642\n",
      "Epoch 21/50\n",
      "\u001B[1m83/83\u001B[0m \u001B[32m━━━━━━━━━━━━━━━━━━━━\u001B[0m\u001B[37m\u001B[0m \u001B[1m4s\u001B[0m 44ms/step - kl_loss: 13.7582 - loss: 53.0799 - reconstruction_loss: 39.3217 - val_kl_loss: 14.0020 - val_reconstruction_loss: 39.9188 - val_total_loss: 53.9208\n",
      "Epoch 22/50\n",
      "\u001B[1m83/83\u001B[0m \u001B[32m━━━━━━━━━━━━━━━━━━━━\u001B[0m\u001B[37m\u001B[0m \u001B[1m4s\u001B[0m 46ms/step - kl_loss: 13.7127 - loss: 52.5003 - reconstruction_loss: 38.7876 - val_kl_loss: 13.7783 - val_reconstruction_loss: 38.6056 - val_total_loss: 52.3839\n",
      "Epoch 23/50\n",
      "\u001B[1m83/83\u001B[0m \u001B[32m━━━━━━━━━━━━━━━━━━━━\u001B[0m\u001B[37m\u001B[0m \u001B[1m4s\u001B[0m 45ms/step - kl_loss: 13.6932 - loss: 52.0343 - reconstruction_loss: 38.3411 - val_kl_loss: 13.8350 - val_reconstruction_loss: 38.6894 - val_total_loss: 52.5245\n",
      "Epoch 24/50\n",
      "\u001B[1m83/83\u001B[0m \u001B[32m━━━━━━━━━━━━━━━━━━━━\u001B[0m\u001B[37m\u001B[0m \u001B[1m4s\u001B[0m 46ms/step - kl_loss: 13.6584 - loss: 51.1473 - reconstruction_loss: 37.4889 - val_kl_loss: 13.9935 - val_reconstruction_loss: 41.6480 - val_total_loss: 55.6416\n",
      "Epoch 25/50\n",
      "\u001B[1m83/83\u001B[0m \u001B[32m━━━━━━━━━━━━━━━━━━━━\u001B[0m\u001B[37m\u001B[0m \u001B[1m4s\u001B[0m 51ms/step - kl_loss: 13.6604 - loss: 51.0609 - reconstruction_loss: 37.4005 - val_kl_loss: 13.5360 - val_reconstruction_loss: 37.1405 - val_total_loss: 50.6765\n",
      "Epoch 26/50\n",
      "\u001B[1m83/83\u001B[0m \u001B[32m━━━━━━━━━━━━━━━━━━━━\u001B[0m\u001B[37m\u001B[0m \u001B[1m4s\u001B[0m 46ms/step - kl_loss: 13.5831 - loss: 49.7316 - reconstruction_loss: 36.1484 - val_kl_loss: 13.7311 - val_reconstruction_loss: 36.8207 - val_total_loss: 50.5518\n",
      "Epoch 27/50\n",
      "\u001B[1m83/83\u001B[0m \u001B[32m━━━━━━━━━━━━━━━━━━━━\u001B[0m\u001B[37m\u001B[0m \u001B[1m4s\u001B[0m 46ms/step - kl_loss: 13.5735 - loss: 49.2644 - reconstruction_loss: 35.6909 - val_kl_loss: 13.5414 - val_reconstruction_loss: 36.6564 - val_total_loss: 50.1979\n",
      "Epoch 28/50\n",
      "\u001B[1m83/83\u001B[0m \u001B[32m━━━━━━━━━━━━━━━━━━━━\u001B[0m\u001B[37m\u001B[0m \u001B[1m4s\u001B[0m 45ms/step - kl_loss: 13.5919 - loss: 48.8901 - reconstruction_loss: 35.2982 - val_kl_loss: 13.7572 - val_reconstruction_loss: 35.3545 - val_total_loss: 49.1116\n",
      "Epoch 29/50\n",
      "\u001B[1m83/83\u001B[0m \u001B[32m━━━━━━━━━━━━━━━━━━━━\u001B[0m\u001B[37m\u001B[0m \u001B[1m4s\u001B[0m 46ms/step - kl_loss: 13.5838 - loss: 48.2951 - reconstruction_loss: 34.7113 - val_kl_loss: 13.3353 - val_reconstruction_loss: 37.9189 - val_total_loss: 51.2542\n",
      "Epoch 30/50\n",
      "\u001B[1m83/83\u001B[0m \u001B[32m━━━━━━━━━━━━━━━━━━━━\u001B[0m\u001B[37m\u001B[0m \u001B[1m4s\u001B[0m 45ms/step - kl_loss: 13.5355 - loss: 47.9662 - reconstruction_loss: 34.4307 - val_kl_loss: 13.6776 - val_reconstruction_loss: 44.4882 - val_total_loss: 58.1658\n",
      "Epoch 31/50\n",
      "\u001B[1m83/83\u001B[0m \u001B[32m━━━━━━━━━━━━━━━━━━━━\u001B[0m\u001B[37m\u001B[0m \u001B[1m4s\u001B[0m 46ms/step - kl_loss: 13.4861 - loss: 48.3204 - reconstruction_loss: 34.8343 - val_kl_loss: 13.5273 - val_reconstruction_loss: 34.0815 - val_total_loss: 47.6088\n",
      "Epoch 32/50\n",
      "\u001B[1m83/83\u001B[0m \u001B[32m━━━━━━━━━━━━━━━━━━━━\u001B[0m\u001B[37m\u001B[0m \u001B[1m4s\u001B[0m 44ms/step - kl_loss: 13.5679 - loss: 46.7705 - reconstruction_loss: 33.2027 - val_kl_loss: 13.4735 - val_reconstruction_loss: 34.5911 - val_total_loss: 48.0646\n",
      "Epoch 33/50\n",
      "\u001B[1m83/83\u001B[0m \u001B[32m━━━━━━━━━━━━━━━━━━━━\u001B[0m\u001B[37m\u001B[0m \u001B[1m4s\u001B[0m 46ms/step - kl_loss: 13.5545 - loss: 46.4852 - reconstruction_loss: 32.9307 - val_kl_loss: 13.5516 - val_reconstruction_loss: 36.7402 - val_total_loss: 50.2918\n",
      "Epoch 34/50\n",
      "\u001B[1m83/83\u001B[0m \u001B[32m━━━━━━━━━━━━━━━━━━━━\u001B[0m\u001B[37m\u001B[0m \u001B[1m4s\u001B[0m 45ms/step - kl_loss: 13.5685 - loss: 46.7187 - reconstruction_loss: 33.1502 - val_kl_loss: 13.4416 - val_reconstruction_loss: 33.0827 - val_total_loss: 46.5243\n",
      "Epoch 35/50\n",
      "\u001B[1m83/83\u001B[0m \u001B[32m━━━━━━━━━━━━━━━━━━━━\u001B[0m\u001B[37m\u001B[0m \u001B[1m4s\u001B[0m 47ms/step - kl_loss: 13.4811 - loss: 45.7416 - reconstruction_loss: 32.2606 - val_kl_loss: 13.5711 - val_reconstruction_loss: 32.1032 - val_total_loss: 45.6742\n",
      "Epoch 36/50\n",
      "\u001B[1m83/83\u001B[0m \u001B[32m━━━━━━━━━━━━━━━━━━━━\u001B[0m\u001B[37m\u001B[0m \u001B[1m4s\u001B[0m 45ms/step - kl_loss: 13.5493 - loss: 45.2822 - reconstruction_loss: 31.7329 - val_kl_loss: 13.6193 - val_reconstruction_loss: 33.0987 - val_total_loss: 46.7181\n",
      "Epoch 37/50\n",
      "\u001B[1m83/83\u001B[0m \u001B[32m━━━━━━━━━━━━━━━━━━━━\u001B[0m\u001B[37m\u001B[0m \u001B[1m4s\u001B[0m 46ms/step - kl_loss: 13.4891 - loss: 44.7805 - reconstruction_loss: 31.2914 - val_kl_loss: 13.5339 - val_reconstruction_loss: 31.4009 - val_total_loss: 44.9348\n",
      "Epoch 38/50\n",
      "\u001B[1m83/83\u001B[0m \u001B[32m━━━━━━━━━━━━━━━━━━━━\u001B[0m\u001B[37m\u001B[0m \u001B[1m4s\u001B[0m 45ms/step - kl_loss: 13.5534 - loss: 44.5155 - reconstruction_loss: 30.9620 - val_kl_loss: 13.5301 - val_reconstruction_loss: 31.6923 - val_total_loss: 45.2224\n",
      "Epoch 39/50\n",
      "\u001B[1m83/83\u001B[0m \u001B[32m━━━━━━━━━━━━━━━━━━━━\u001B[0m\u001B[37m\u001B[0m \u001B[1m4s\u001B[0m 46ms/step - kl_loss: 13.5248 - loss: 44.2728 - reconstruction_loss: 30.7480 - val_kl_loss: 13.4641 - val_reconstruction_loss: 31.5322 - val_total_loss: 44.9963\n",
      "Epoch 40/50\n",
      "\u001B[1m83/83\u001B[0m \u001B[32m━━━━━━━━━━━━━━━━━━━━\u001B[0m\u001B[37m\u001B[0m \u001B[1m4s\u001B[0m 47ms/step - kl_loss: 13.5029 - loss: 43.9914 - reconstruction_loss: 30.4885 - val_kl_loss: 13.7193 - val_reconstruction_loss: 33.8144 - val_total_loss: 47.5337\n",
      "Epoch 41/50\n",
      "\u001B[1m83/83\u001B[0m \u001B[32m━━━━━━━━━━━━━━━━━━━━\u001B[0m\u001B[37m\u001B[0m \u001B[1m4s\u001B[0m 45ms/step - kl_loss: 13.5453 - loss: 43.9910 - reconstruction_loss: 30.4457 - val_kl_loss: 13.5566 - val_reconstruction_loss: 31.8708 - val_total_loss: 45.4274\n",
      "Epoch 42/50\n",
      "\u001B[1m83/83\u001B[0m \u001B[32m━━━━━━━━━━━━━━━━━━━━\u001B[0m\u001B[37m\u001B[0m \u001B[1m4s\u001B[0m 47ms/step - kl_loss: 13.5259 - loss: 43.5037 - reconstruction_loss: 29.9779 - val_kl_loss: 13.8554 - val_reconstruction_loss: 33.2065 - val_total_loss: 47.0619\n",
      "Epoch 43/50\n",
      "\u001B[1m83/83\u001B[0m \u001B[32m━━━━━━━━━━━━━━━━━━━━\u001B[0m\u001B[37m\u001B[0m \u001B[1m4s\u001B[0m 45ms/step - kl_loss: 13.5180 - loss: 43.7372 - reconstruction_loss: 30.2191 - val_kl_loss: 13.3729 - val_reconstruction_loss: 30.4772 - val_total_loss: 43.8501\n",
      "Epoch 44/50\n",
      "\u001B[1m83/83\u001B[0m \u001B[32m━━━━━━━━━━━━━━━━━━━━\u001B[0m\u001B[37m\u001B[0m \u001B[1m4s\u001B[0m 47ms/step - kl_loss: 13.5203 - loss: 42.7502 - reconstruction_loss: 29.2299 - val_kl_loss: 13.6283 - val_reconstruction_loss: 31.4602 - val_total_loss: 45.0885\n",
      "Epoch 45/50\n",
      "\u001B[1m83/83\u001B[0m \u001B[32m━━━━━━━━━━━━━━━━━━━━\u001B[0m\u001B[37m\u001B[0m \u001B[1m4s\u001B[0m 45ms/step - kl_loss: 13.5703 - loss: 42.6048 - reconstruction_loss: 29.0345 - val_kl_loss: 13.6148 - val_reconstruction_loss: 29.2154 - val_total_loss: 42.8302\n",
      "Epoch 46/50\n",
      "\u001B[1m83/83\u001B[0m \u001B[32m━━━━━━━━━━━━━━━━━━━━\u001B[0m\u001B[37m\u001B[0m \u001B[1m4s\u001B[0m 47ms/step - kl_loss: 13.5354 - loss: 42.0557 - reconstruction_loss: 28.5204 - val_kl_loss: 13.6120 - val_reconstruction_loss: 29.1117 - val_total_loss: 42.7238\n",
      "Epoch 47/50\n",
      "\u001B[1m83/83\u001B[0m \u001B[32m━━━━━━━━━━━━━━━━━━━━\u001B[0m\u001B[37m\u001B[0m \u001B[1m4s\u001B[0m 46ms/step - kl_loss: 13.6010 - loss: 42.0830 - reconstruction_loss: 28.4820 - val_kl_loss: 14.0747 - val_reconstruction_loss: 31.9777 - val_total_loss: 46.0524\n",
      "Epoch 48/50\n",
      "\u001B[1m83/83\u001B[0m \u001B[32m━━━━━━━━━━━━━━━━━━━━\u001B[0m\u001B[37m\u001B[0m \u001B[1m4s\u001B[0m 46ms/step - kl_loss: 13.5598 - loss: 41.8023 - reconstruction_loss: 28.2425 - val_kl_loss: 13.5341 - val_reconstruction_loss: 31.0228 - val_total_loss: 44.5569\n",
      "Epoch 49/50\n",
      "\u001B[1m83/83\u001B[0m \u001B[32m━━━━━━━━━━━━━━━━━━━━\u001B[0m\u001B[37m\u001B[0m \u001B[1m4s\u001B[0m 46ms/step - kl_loss: 13.6142 - loss: 41.7032 - reconstruction_loss: 28.0890 - val_kl_loss: 13.5748 - val_reconstruction_loss: 31.1907 - val_total_loss: 44.7655\n",
      "Epoch 50/50\n",
      "\u001B[1m83/83\u001B[0m \u001B[32m━━━━━━━━━━━━━━━━━━━━\u001B[0m\u001B[37m\u001B[0m \u001B[1m4s\u001B[0m 47ms/step - kl_loss: 13.5423 - loss: 41.3296 - reconstruction_loss: 27.7873 - val_kl_loss: 13.4914 - val_reconstruction_loss: 29.9807 - val_total_loss: 43.4721\n"
     ]
    }
   ],
   "execution_count": 8
  },
  {
   "metadata": {
    "ExecuteTime": {
     "end_time": "2025-09-18T01:40:16.251926Z",
     "start_time": "2025-09-18T01:40:16.107233Z"
    }
   },
   "cell_type": "code",
   "source": [
    "# Plot training history\n",
    "plt.figure(figsize=(12, 4))\n",
    "plt.subplot(1, 3, 1)\n",
    "plt.plot(history.history['loss'], label='Training Loss')\n",
    "plt.plot(history.history['val_total_loss'], label='Validation Loss')\n",
    "plt.title('Total Loss (ELBO)')\n",
    "plt.legend()\n",
    "\n",
    "plt.subplot(1, 3, 2)\n",
    "plt.plot(history.history['reconstruction_loss'], label='Training')\n",
    "plt.plot(history.history['val_reconstruction_loss'], label='Validation')\n",
    "plt.title('Reconstruction Loss')\n",
    "plt.legend()\n",
    "\n",
    "plt.subplot(1, 3, 3)\n",
    "plt.plot(history.history['kl_loss'], label='Training')\n",
    "plt.plot(history.history['val_kl_loss'], label='Validation')\n",
    "plt.title('KL Loss')\n",
    "plt.legend()\n",
    "plt.tight_layout()\n",
    "plt.show()"
   ],
   "id": "a6122b7953469f79",
   "outputs": [
    {
     "data": {
      "text/plain": [
       "<Figure size 1200x400 with 3 Axes>"
      ],
      "image/png": "[encoded data removed]"
     },
     "metadata": {},
     "output_type": "display_data",
     "jetTransient": {
      "display_id": null
     }
    }
   ],
   "execution_count": 9
  }
 ],
 "metadata": {
  "kernelspec": {
   "display_name": "Python 3",
   "language": "python",
   "name": "python3"
  },
  "language_info": {
   "codemirror_mode": {
    "name": "ipython",
    "version": 2
   },
   "file_extension": ".py",
   "mimetype": "text/x-python",
   "name": "python",
   "nbconvert_exporter": "python",
   "pygments_lexer": "ipython2",
   "version": "2.7.6"
  }
 },
 "nbformat": 4,
 "nbformat_minor": 5
}
